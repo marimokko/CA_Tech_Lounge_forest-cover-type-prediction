{
  "nbformat": 4,
  "nbformat_minor": 0,
  "metadata": {
    "colab": {
      "provenance": []
    },
    "kernelspec": {
      "name": "python3",
      "display_name": "Python 3"
    },
    "language_info": {
      "name": "python"
    }
  },
  "cells": [
    {
      "cell_type": "code",
      "execution_count": 4,
      "metadata": {
        "colab": {
          "base_uri": "https://localhost:8080/"
        },
        "id": "JYddRjSFnlC6",
        "outputId": "6c4b72d0-fb92-44bd-9c36-815994a6a07f"
      },
      "outputs": [
        {
          "output_type": "stream",
          "name": "stderr",
          "text": [
            "<ipython-input-4-0048e4248115>:24: DeprecationWarning: `np.bool` is a deprecated alias for the builtin `bool`. To silence this warning, use `bool` by itself. Doing this will not modify any behavior and is safe. If you specifically wanted the numpy scalar type, use `np.bool_` here.\n",
            "Deprecated in NumPy 1.20; for more details and guidance: https://numpy.org/devdocs/release/1.20.0-notes.html#deprecations\n",
            "  upper = corr_matrix_abs.where(np.triu(np.ones(corr_matrix_abs.shape), k=1).astype(np.bool))\n"
          ]
        },
        {
          "output_type": "stream",
          "name": "stdout",
          "text": [
            "Remaining features: ['feature_0', 'feature_1', 'feature_2', 'feature_3', 'feature_4', 'feature_5', 'feature_6', 'feature_7', 'feature_8', 'feature_9', 'feature_10', 'feature_11', 'feature_12', 'feature_13', 'feature_14', 'feature_15', 'feature_16', 'feature_17', 'feature_18', 'feature_19', 'feature_20', 'feature_21', 'feature_22', 'feature_23', 'feature_24', 'feature_25', 'feature_26', 'feature_27', 'feature_28', 'feature_29', 'feature_30', 'feature_31', 'feature_32', 'feature_33', 'feature_34', 'feature_35', 'feature_36', 'feature_37', 'feature_38', 'feature_39', 'feature_40', 'feature_41', 'feature_42', 'feature_43', 'feature_44', 'feature_45', 'feature_46', 'feature_47', 'feature_48', 'feature_49', 'feature_50', 'feature_51', 'feature_52', 'feature_53']\n",
            "Accuracy: 0.9516132733614834\n",
            "              precision    recall  f1-score   support\n",
            "\n",
            "           1       0.96      0.94      0.95     63556\n",
            "           2       0.95      0.97      0.96     85078\n",
            "           3       0.94      0.96      0.95     10638\n",
            "           4       0.91      0.85      0.88       795\n",
            "           5       0.94      0.75      0.84      2941\n",
            "           6       0.93      0.89      0.91      5227\n",
            "           7       0.97      0.95      0.96      6069\n",
            "\n",
            "    accuracy                           0.95    174304\n",
            "   macro avg       0.94      0.90      0.92    174304\n",
            "weighted avg       0.95      0.95      0.95    174304\n",
            "\n"
          ]
        }
      ],
      "source": [
        "import pandas as pd\n",
        "import numpy as np\n",
        "import seaborn as sns\n",
        "import matplotlib.pyplot as plt\n",
        "from sklearn.model_selection import train_test_split\n",
        "from sklearn.ensemble import RandomForestClassifier\n",
        "from sklearn.metrics import classification_report\n",
        "from sklearn.metrics import accuracy_score\n",
        "\n",
        "# データの読み込み\n",
        "url = \"https://archive.ics.uci.edu/ml/machine-learning-databases/covtype/covtype.data.gz\"\n",
        "columns = [f\"feature_{i}\" for i in range(54)] + [\"label\"]\n",
        "df = pd.read_csv(url, names=columns)\n",
        "\n",
        "# 相関行列を計算\n",
        "corr_matrix = df.corr()\n",
        "\n",
        "# 相関が高い特徴量を特定し、1つだけ残してモデルに使用\n",
        "# 相関係数の閾値を設定\n",
        "threshold = 0.9\n",
        "\n",
        "# 閾値より高い相関係数を持つ特徴量を除外\n",
        "corr_matrix_abs = corr_matrix.abs()\n",
        "upper = corr_matrix_abs.where(np.triu(np.ones(corr_matrix_abs.shape), k=1).astype(np.bool))\n",
        "to_drop = [column for column in upper.columns if any(upper[column] > threshold)]\n",
        "\n",
        "# 相関が高い特徴量を削除\n",
        "df_reduced = df.drop(to_drop, axis=1)\n",
        "\n",
        "# データを特徴量とラベルに分割\n",
        "X = df_reduced.drop('label', axis=1)\n",
        "y = df_reduced['label']\n",
        "\n",
        "# データを学習用とテスト用に分割\n",
        "X_train, X_test, y_train, y_test = train_test_split(X, y, test_size=0.3, random_state=42)\n",
        "\n",
        "# ランダムフォレスト分類器をインスタンス化\n",
        "rfc = RandomForestClassifier(random_state=42)\n",
        "\n",
        "# モデルの学習\n",
        "rfc.fit(X_train, y_train)\n",
        "\n",
        "# テストデータで予測\n",
        "y_pred = rfc.predict(X_test)\n",
        "\n",
        "# 結果の表示\n",
        "print(\"Remaining features:\", list(X.columns))\n",
        "print(\"Accuracy:\", accuracy_score(y_test, y_pred))\n",
        "print(classification_report(y_test, y_pred))\n"
      ]
    }
  ]
}